{
  "nbformat": 4,
  "nbformat_minor": 0,
  "metadata": {
    "colab": {
      "provenance": []
    },
    "kernelspec": {
      "name": "python3",
      "display_name": "Python 3"
    },
    "language_info": {
      "name": "python"
    }
  },
  "cells": [
    {
      "cell_type": "code",
      "source": [
        "import pandas as pd\n",
        "import matplotlib.pyplot as plt"
      ],
      "metadata": {
        "id": "a5ThwP8V_CnS"
      },
      "execution_count": 3,
      "outputs": []
    },
    {
      "cell_type": "code",
      "execution_count": 4,
      "metadata": {
        "id": "yAW-yRF3klLA"
      },
      "outputs": [],
      "source": [
        "def Bollinger_Bands(df,multiplier=2,column='Close',window=20):\n",
        "  df[\"MA\"]=df[column].rolling(window=window).mean()\n",
        "  df['STD'] = df['Close'].rolling(window=window).std()\n",
        "  df['Upper'] = df['MA'] + (multiplier * df['STD'])\n",
        "  df['Lower'] = df['MA'] - (multiplier * df['STD'])\n",
        "  plt.figure(figsize=(12,6))\n",
        "  plt.plot(data[column],label=\"Close_Price\",color=\"blue\")\n",
        "  plt.plot(data['Lower'], label='Lower Band', color='green', linestyle='--')\n",
        "  plt.plot(data['MA'], label='Moving Average', color='black')\n",
        "  plt.fill_between(data.index, data['Lower'], data['Upper'], color='gray', alpha=0.2)\n",
        "  plt.title('Bollinger Bands')\n",
        "  plt.xlabel('Date')\n",
        "  plt.ylabel('Price')\n",
        "  plt.show()\n",
        "  df[\"Signals\"]=0\n",
        "  df.loc[df[column]>df[\"Upper\"],\"Signals\"]=-1\n",
        "  df.loc[df[column]<df[\"Lower\"],\"Signals\"]=1\n",
        "  return df['Signals']"
      ]
    },
    {
      "cell_type": "code",
      "source": [
        "def MACD(df,fast=12,slow=36,signal=9,columns=\"Close\"):\n",
        "  df[\"EMA_Fast\"]=df[column].ewm(span=fast,adjust=false).mean()\n",
        "  df[\"EMA_Slow\"]=df[column].ewm(span=slow,adjust=false).mean()\n",
        "  df[\"MACD\"]=df[\"EMA_Fast\"]-df[\"EMS_Slow\"]\n",
        "  df[\"Signal_Line\"]=df[\"MACD\"].ewm(span=signal,adjust=False).mean()\n",
        "  df['Histogram'] = df['MACD'] - df['Signal']\n",
        "  plt.figure(figsize=(12, 6))\n",
        "  plt.plot(df['MACD'], label='MACD', color='blue')\n",
        "  plt.plot(df['Signal'], label='Signal Line', color='orange')\n",
        "  plt.bar(df.index, df['Histogram'], label='Histogram', color='gray')\n",
        "  plt.title('MACD Indicator')\n",
        "  plt.xlabel('Date')\n",
        "  plt.ylabel('Value')\n",
        "  plt.show()\n",
        "  df[\"Signals\"] = 0\n",
        "  df.loc[df['MACD'] > df['Signal'], 'MACD_Signal'] = 1\n",
        "  df.loc[df['MACD'] < df['Signal'], 'MACD_Signal'] = -1\n",
        "  return df[\"Signals\"]\n"
      ],
      "metadata": {
        "id": "BS4Sx-vS6-Fb"
      },
      "execution_count": 5,
      "outputs": []
    },
    {
      "cell_type": "code",
      "source": [
        "def stochastic_oscillator(df,long_period=14,short_period=3,column=\"Close\"):\n",
        "  df['Lowest_Low'] = df['Low'].rolling(window=long_period).min()\n",
        "  df['Highest_High'] = df['High'].rolling(window=long_period).max()\n",
        "  df['%K'] = 100 * ((df['Close'] - df['Lowest_Low']) / (df['Highest_High'] - df['Lowest_Low']))\n",
        "  df['%D'] = df['%K'].rolling(window=short_period).mean()\n",
        "  plt.figure(figsize=(12, 6))\n",
        "  plt.plot(df['%K'], label='%K', color='blue')\n",
        "  plt.plot(df['%D'], label='%D (Signal)', color='red')\n",
        "  plt.axhline(80, color='gray', linestyle='--', label='Overbought (80)')\n",
        "  plt.axhline(20, color='gray', linestyle='--', label='Oversold (20)')\n",
        "  plt.title('Stochastic Oscillator')\n",
        "  plt.xlabel('Date')\n",
        "  plt.ylabel('Stochastic Value')\n",
        "  plt.show()\n",
        "  df[\"Signals\"]=0\n",
        "  df.loc[(df['%K'] < 20) & (df['%D'] < 20), 'Signals'] = 1\n",
        "  df.loc[(df['%K'] > 80) & (df['%D'] > 80), 'Signals'] = -1\n",
        "  return df['Signals']"
      ],
      "metadata": {
        "id": "aBt7RxUJ9KFH"
      },
      "execution_count": 6,
      "outputs": []
    },
    {
      "cell_type": "code",
      "source": [
        "def VWAP(df):\n",
        "  df[\"Typical_Price\"]=(df[\"Close\"]+df[\"High\"]+df[\"Low\"])/3\n",
        "  df[\"VWAP\"]=(df[\"Typical_price\"]*df[\"Volume\"]).cumsum()/df[\"Volume\"].cumsum()\n",
        "  plt.figure(figsize=(12, 6))\n",
        "  plt.plot(df['Close'], label='Close Price', color='blue')\n",
        "  plt.plot(df['VWAP'], label='VWAP', color='orange')\n",
        "  plt.title('VWAP Indicator')\n",
        "  plt.xlabel('Timestamp')\n",
        "  plt.ylabel('Price')\n",
        "  plt.legend()\n",
        "  plt.show()\n",
        "  return df"
      ],
      "metadata": {
        "id": "KbFYhH7BG0Gk"
      },
      "execution_count": 7,
      "outputs": []
    },
    {
      "cell_type": "code",
      "source": [
        "def RSI(df,window=14):\n",
        "  df[\"Returns\"]=df[\"Close\"].diff()\n",
        "  gains=df[\"Returns\"].where(df[\"Returns\"]>0,0)\n",
        "  loss=df[\"Returns\"].where(df[\"Returns\"]<0,0)\n",
        "  rs=gains.rolling(window=window).mean()/loss.rolling(window=window).mean()\n",
        "  df[\"RSI\"]=100-100/(1+rs)\n",
        "  plt.figure(figsize=(12, 6))\n",
        "  plt.plot(df['RSI'], label='RSI', color='purple')\n",
        "  plt.axhline(70, color='red', linestyle='--', label='Overbought (70)')\n",
        "  plt.axhline(30, color='green', linestyle='--', label='Oversold (30)')\n",
        "  plt.title('Relative Strength Index (RSI)')\n",
        "  plt.xlabel('Date')\n",
        "  plt.ylabel('RSI Value')\n",
        "  plt.legend()\n",
        "  plt.show()\n",
        "  df[\"Signals\"]=0\n",
        "  df.loc[df[\"RSI\"]>70,\"Signals\"]=-1\n",
        "  df.loc[df[\"RSI\"]<30,\"Signals\"]=1\n",
        "  return df[\"Signals\"]\n"
      ],
      "metadata": {
        "id": "P2fRJ4j1MVti"
      },
      "execution_count": 8,
      "outputs": []
    },
    {
      "cell_type": "code",
      "source": [
        "def calculate_atr(df, period=14):\n",
        "    df['H-L'] = df['High'] - df['Low']\n",
        "    df['H-PC'] = abs(df['High'] - df['Close'].shift(1))\n",
        "    df['L-PC'] = abs(df['Low'] - df['Close'].shift(1))\n",
        "    df['TR'] = df[['H-L', 'H-PC', 'L-PC']].max(axis=1)\n",
        "    df['ATR'] = df['TR'].ewm(span=period, adjust=False).mean()\n",
        "    plt.figure(figsize=(12, 6))\n",
        "    plt.plot(df['ATR'], label=f'ATR ({period})', color='orange')\n",
        "    plt.title('Average True Range (ATR)')\n",
        "    plt.xlabel('Date')\n",
        "    plt.ylabel('ATR')\n",
        "    plt.grid(True)\n",
        "    plt.legend()\n",
        "    plt.show()\n",
        "    return df\n",
        "\n"
      ],
      "metadata": {
        "id": "Tr0eFvWMOn-b"
      },
      "execution_count": 9,
      "outputs": []
    },
    {
      "cell_type": "code",
      "source": [
        "def clean(df):\n",
        "    cleaned_signals = []\n",
        "    current_pos = 0  # 0 = no position, 1 = long, -1 = short\n",
        "\n",
        "    for i in range(len(df)):\n",
        "        signal = df[\"Signals\"].iloc[i]\n",
        "\n",
        "        if current_pos == 0:\n",
        "            cleaned_signals.append(signal)\n",
        "            if signal != 0:\n",
        "                current_pos = signal  # Enter position\n",
        "        elif current_pos == 1:\n",
        "            if signal == -1:  # Exit long\n",
        "                cleaned_signals.append(signal)\n",
        "                current_pos = 0\n",
        "            else:\n",
        "                cleaned_signals.append(0)  # Hold long\n",
        "        elif current_pos == -1:\n",
        "            if signal == 1:  # Exit short\n",
        "                cleaned_signals.append(signal)\n",
        "                current_pos = 0\n",
        "            else:\n",
        "                cleaned_signals.append(0)  # Hold short\n",
        "\n",
        "    df[\"Cleaned_Signals\"] = cleaned_signals\n",
        "    return df"
      ],
      "metadata": {
        "id": "KG0S2ZfDYfNI"
      },
      "execution_count": 10,
      "outputs": []
    },
    {
      "cell_type": "code",
      "source": [
        "import pandas as pd\n",
        "import matplotlib.pyplot as plt\n",
        "\n",
        "def backtest(signals, df, initial_capital=1000, stop_pct=0.05):\n",
        "    df = df.copy()\n",
        "    df[\"Returns\"] = df[\"Close\"].pct_change().fillna(0)\n",
        "\n",
        "    position = 0\n",
        "    entry_price = 0\n",
        "    cash = initial_capital\n",
        "    equity_curve = []\n",
        "    trade_log = []\n",
        "    entry_index = None  # Track entry index for short position\n",
        "\n",
        "    for i in range(len(df)):\n",
        "        price = df[\"Close\"].iloc[i]\n",
        "        signal = signals[i]\n",
        "        date = df.index[i]\n",
        "\n",
        "        # ENTRY LOGIC\n",
        "        if signal == 1 and position == 0:\n",
        "            position = 1\n",
        "            entry_price = price\n",
        "            entry_index = i\n",
        "            trade_log.append({\"Entry_Date\": date, \"Entry_Price\": price, \"Position\": \"Long\"})\n",
        "\n",
        "        elif signal == -1 and position == 0:\n",
        "            position = -1\n",
        "            entry_price = price\n",
        "            entry_index = i\n",
        "            trade_log.append({\"Entry_Date\": date, \"Entry_Price\": price, \"Position\": \"Short\"})\n",
        "\n",
        "        # EXIT LOGIC\n",
        "        elif signal == -1 and position == 1:  # Exit long\n",
        "            pnl = price - entry_price\n",
        "            cash += pnl\n",
        "            trade_log[-1].update({\"Exit_Date\": date, \"Exit_Price\": price, \"PnL\": pnl})\n",
        "            position = 0\n",
        "            entry_index = None\n",
        "\n",
        "        elif signal == 1 and position == -1:  # Exit short\n",
        "            pnl = entry_price - price\n",
        "            cash += pnl\n",
        "            trade_log[-1].update({\"Exit_Date\": date, \"Exit_Price\": price, \"PnL\": pnl})\n",
        "            position = 0\n",
        "            entry_index = None\n",
        "\n",
        "        # Square off short position after 5 days\n",
        "        elif position == -1 and entry_index is not None and (i - entry_index) >= 5:\n",
        "            pnl = entry_price - price\n",
        "            cash += pnl\n",
        "            trade_log[-1].update({\"Exit_Date\": date, \"Exit_Price\": price, \"PnL\": pnl, \"Forced_Exit\": True})\n",
        "            position = 0\n",
        "            entry_index = None\n",
        "\n",
        "        # Update equity\n",
        "        if position == 1:\n",
        "            equity = cash + (price - entry_price)\n",
        "        elif position == -1:\n",
        "            equity = cash + (entry_price - price)\n",
        "        else:\n",
        "            equity = cash\n",
        "\n",
        "        equity_curve.append(equity)\n",
        "\n",
        "    df['Equity'] = equity_curve\n",
        "    df['Daily Return'] = df['Equity'].pct_change().fillna(0)\n",
        "\n",
        "    # Performance metrics\n",
        "    total_return = (df['Equity'].iloc[-1] - initial_capital) / initial_capital\n",
        "    max_drawdown = (df['Equity'].cummax() - df['Equity']).max() / df['Equity'].cummax().max()\n",
        "    sharpe_ratio = df['Daily Return'].mean() / df['Daily Return'].std() * (252**0.5)\n",
        "\n",
        "    print(f\"Total Return: {total_return * 100:.2f}%\")\n",
        "    print(f\"Max Drawdown: {max_drawdown * 100:.2f}%\")\n",
        "    print(f\"Sharpe Ratio: {sharpe_ratio:.2f}\")\n",
        "\n",
        "    # Plot\n",
        "    plt.figure(figsize=(12, 6))\n",
        "    plt.plot(df.index, df['Equity'], label='Equity Curve')\n",
        "    plt.title('Backtest Using Cleaned Signals')\n",
        "    plt.xlabel('Date')\n",
        "    plt.ylabel('Portfolio Value')\n",
        "    plt.grid(True)\n",
        "    plt.legend()\n",
        "    plt.show()\n",
        "\n",
        "    trades_df = pd.DataFrame(trade_log)\n",
        "    return df, trades_df\n",
        "\n",
        "\n",
        "\n",
        "\n",
        "\n",
        "\n",
        "\n",
        "\n",
        "\n",
        "\n",
        "\n",
        "\n",
        "\n",
        "\n"
      ],
      "metadata": {
        "id": "hF17T1LHSgIR"
      },
      "execution_count": 11,
      "outputs": []
    },
    {
      "cell_type": "code",
      "source": [],
      "metadata": {
        "id": "OHJ9Dw5H1fPn"
      },
      "execution_count": null,
      "outputs": []
    }
  ]
}